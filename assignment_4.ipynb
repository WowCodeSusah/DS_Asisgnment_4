{
  "nbformat": 4,
  "nbformat_minor": 0,
  "metadata": {
    "colab": {
      "provenance": []
    },
    "kernelspec": {
      "name": "python3",
      "display_name": "Python 3"
    },
    "language_info": {
      "name": "python"
    }
  },
  "cells": [
    {
      "cell_type": "code",
      "execution_count": null,
      "metadata": {
        "id": "zAVv7DVRvhBo"
      },
      "outputs": [],
      "source": [
        "import pandas as pd\n",
        "from math import sqrt\n",
        "import numpy as np\n",
        "from  google.colab import drive"
      ]
    },
    {
      "cell_type": "code",
      "source": [
        "movies_df = pd.read_csv('/content/drive/MyDrive/movies.csv')\n",
        "ratings_df = pd.read_csv('/content/drive/MyDrive/ratings.csv')\n",
        "ratings_df.info()"
      ],
      "metadata": {
        "colab": {
          "base_uri": "https://localhost:8080/"
        },
        "id": "_iOvaGf3vunO",
        "outputId": "98aaed2c-8812-4f20-9b6e-7a8ac2af2146"
      },
      "execution_count": null,
      "outputs": [
        {
          "output_type": "stream",
          "name": "stdout",
          "text": [
            "<class 'pandas.core.frame.DataFrame'>\n",
            "RangeIndex: 100836 entries, 0 to 100835\n",
            "Data columns (total 4 columns):\n",
            " #   Column     Non-Null Count   Dtype  \n",
            "---  ------     --------------   -----  \n",
            " 0   userId     100836 non-null  int64  \n",
            " 1   movieId    100836 non-null  int64  \n",
            " 2   rating     100836 non-null  float64\n",
            " 3   timestamp  100836 non-null  int64  \n",
            "dtypes: float64(1), int64(3)\n",
            "memory usage: 3.1 MB\n"
          ]
        }
      ]
    },
    {
      "cell_type": "code",
      "source": [
        "userInput = [{'title':'Teenage Mutant Ninja Turtles: Out of the Shadows (2016)', 'rating':4.0},\n",
        "             {'title':'Jesus Christ Vampire Hunter (2001)', 'rating':1.0},\n",
        "             {'title':'Kung Fu Panda 3 (2016)', 'rating':5.0},\n",
        "             {'title':'Akeelah and the Bee (2006)', 'rating':3.0},\n",
        "             {'title':'Die Hard (1988)', 'rating':5.0}]\n",
        "inputMovies = pd.DataFrame(userInput)\n",
        "print(inputMovies)"
      ],
      "metadata": {
        "colab": {
          "base_uri": "https://localhost:8080/"
        },
        "id": "NOGrO3oyx3dT",
        "outputId": "cb2e60d3-0d8e-4c09-ef34-9e1a720f2eb4"
      },
      "execution_count": null,
      "outputs": [
        {
          "output_type": "stream",
          "name": "stdout",
          "text": [
            "                                               title  rating\n",
            "0  Teenage Mutant Ninja Turtles: Out of the Shado...     4.0\n",
            "1                 Jesus Christ Vampire Hunter (2001)     1.0\n",
            "2                             Kung Fu Panda 3 (2016)     5.0\n",
            "3                         Akeelah and the Bee (2006)     3.0\n",
            "4                                    Die Hard (1988)     5.0\n"
          ]
        }
      ]
    },
    {
      "cell_type": "code",
      "source": [
        "inputId = movies_df[movies_df['title'].isin(inputMovies['title'].tolist())]\n",
        "inputMovies = pd.merge(inputId, inputMovies)\n",
        "inputMovies = inputMovies[['movieId','title','rating']]\n",
        "print(inputMovies)\n"
      ],
      "metadata": {
        "colab": {
          "base_uri": "https://localhost:8080/"
        },
        "id": "3MLV83Rt0OYX",
        "outputId": "2c2d5e48-cc22-483c-aba8-be4dde80ae7b"
      },
      "execution_count": null,
      "outputs": [
        {
          "output_type": "stream",
          "name": "stdout",
          "text": [
            "   movieId                                              title  rating\n",
            "0     1036                                    Die Hard (1988)     5.0\n",
            "1    27595                 Jesus Christ Vampire Hunter (2001)     1.0\n",
            "2    44709                         Akeelah and the Bee (2006)     3.0\n",
            "3   149406                             Kung Fu Panda 3 (2016)     5.0\n",
            "4   159690  Teenage Mutant Ninja Turtles: Out of the Shado...     4.0\n"
          ]
        }
      ]
    },
    {
      "cell_type": "code",
      "source": [
        "userSubset = ratings_df[ratings_df['movieId'].isin(inputMovies['movieId'].tolist())]\n",
        "print(userSubset.groupby('movieId').count())\n"
      ],
      "metadata": {
        "colab": {
          "base_uri": "https://localhost:8080/"
        },
        "id": "63EJm4mK1OUA",
        "outputId": "73c97ff1-7c84-45ba-e277-35362a6dda65"
      },
      "execution_count": null,
      "outputs": [
        {
          "output_type": "stream",
          "name": "stdout",
          "text": [
            "         userId  rating  timestamp\n",
            "movieId                           \n",
            "1036        145     145        145\n",
            "27595         1       1          1\n",
            "44709         5       5          5\n",
            "149406        8       8          8\n",
            "159690        1       1          1\n"
          ]
        }
      ]
    },
    {
      "cell_type": "code",
      "source": [
        "userSubsetGroup = userSubset.groupby(['userId'])\n",
        "\n",
        "def take_5_elem(x):\n",
        "    return len(x[1])\n",
        "\n",
        "userSubsetGroup = sorted(userSubsetGroup, key=take_5_elem, reverse=True)\n",
        "\n",
        "userSubsetGroup = userSubsetGroup[0:100]\n",
        "print(userSubsetGroup[0:5])"
      ],
      "metadata": {
        "colab": {
          "base_uri": "https://localhost:8080/"
        },
        "id": "4AnjN_Yh1Ueq",
        "outputId": "207ecf08-6659-4dc3-c05f-3624ecc7a3ae"
      },
      "execution_count": null,
      "outputs": [
        {
          "output_type": "stream",
          "name": "stdout",
          "text": [
            "[(448,        userId  movieId  rating   timestamp\n",
            "68802     448     1036     5.0  1019124211\n",
            "70450     448   149406     3.0  1483989104\n",
            "70495     448   159690     2.0  1490638075), (50,       userId  movieId  rating   timestamp\n",
            "7136      50     1036     3.5  1514238054\n",
            "7389      50   149406     2.0  1514239641), (68,        userId  movieId  rating   timestamp\n",
            "10528      68     1036     3.0  1158531885\n",
            "11276      68    44709     4.0  1261085771), (140,        userId  movieId  rating   timestamp\n",
            "21195     140     1036     4.0   942841715\n",
            "21679     140    44709     4.0  1166645423), (232,        userId  movieId  rating   timestamp\n",
            "33950     232     1036     4.5  1218164976\n",
            "34492     232    44709     3.0  1206992657)]\n"
          ]
        },
        {
          "output_type": "stream",
          "name": "stderr",
          "text": [
            "<ipython-input-15-e8724cb2081b>:6: FutureWarning: In a future version of pandas, a length 1 tuple will be returned when iterating over a groupby with a grouper equal to a list of length 1. Don't supply a list with a single grouper to avoid this warning.\n",
            "  userSubsetGroup = sorted(userSubsetGroup, key=take_5_elem, reverse=True)\n"
          ]
        }
      ]
    },
    {
      "cell_type": "code",
      "source": [
        "#Store the Pearson Correlation in a dictionary, where the key is the user Id and the value is the coefficient\n",
        "pearsonCorrelationDict = {}\n",
        "\n",
        "#For every user group in our subset\n",
        "for name, group in userSubsetGroup:\n",
        "\n",
        "    #Let's start by sorting the input and current user group so the values aren't mixed up later on\n",
        "    group = group.sort_values(by='movieId')\n",
        "    inputMovies = inputMovies.sort_values(by='movieId')\n",
        "\n",
        "    #Get the N for the formula\n",
        "    nRatings = len(group)\n",
        "\n",
        "    #Get the review scores for the movies that they both have in common\n",
        "    temp_df = inputMovies[inputMovies['movieId'].isin(group['movieId'].tolist())]\n",
        "\n",
        "    #And then store them in a temporary buffer variable in a list format to facilitate future calculations\n",
        "    tempRatingList = temp_df['rating'].tolist()\n",
        "\n",
        "    #Let's also put the current user group reviews in a list format\n",
        "    tempGroupList = group['rating'].tolist()\n",
        "\n",
        "\n",
        "    #Now let's calculate the pearson correlation between two users, so called, x and y manually (check the formula from week 7 slide)\n",
        "    Sxx = sum([i**2 for i in tempRatingList]) - pow(sum(tempRatingList),2)/float(nRatings)\n",
        "    Syy = sum([i**2 for i in tempGroupList]) - pow(sum(tempGroupList),2)/float(nRatings)\n",
        "    Sxy = sum( i*j for i, j in zip(tempRatingList, tempGroupList)) - sum(tempRatingList)*sum(tempGroupList)/float(nRatings)\n",
        "\n",
        "    #If the denominator is different than zero, then divide, else, 0 correlation.\n",
        "    if Sxx != 0 and Syy != 0:\n",
        "        pearsonCorrelationDict[name] = Sxy/sqrt(Sxx*Syy)\n",
        "    else:\n",
        "        pearsonCorrelationDict[name] = 0"
      ],
      "metadata": {
        "id": "TUxDp2GA14RC"
      },
      "execution_count": null,
      "outputs": []
    },
    {
      "cell_type": "code",
      "source": [
        "pearsonDF = pd.DataFrame.from_dict(pearsonCorrelationDict, orient='index')\n",
        "pearsonDF.columns = ['similarityIndex']\n",
        "pearsonDF['userId'] = pearsonDF.index\n",
        "pearsonDF.index = range(len(pearsonDF))\n",
        "print(pearsonDF.head())"
      ],
      "metadata": {
        "colab": {
          "base_uri": "https://localhost:8080/"
        },
        "id": "0ciwN0OR15FA",
        "outputId": "75c65d7b-0ed6-4dc1-98f0-a50e473e63c5"
      },
      "execution_count": null,
      "outputs": [
        {
          "output_type": "stream",
          "name": "stdout",
          "text": [
            "   similarityIndex  userId\n",
            "0         0.755929     448\n",
            "1         0.000000      50\n",
            "2        -1.000000      68\n",
            "3         0.000000     140\n",
            "4         1.000000     232\n"
          ]
        }
      ]
    },
    {
      "cell_type": "code",
      "source": [
        "topUsers=pearsonDF.sort_values(by='similarityIndex', ascending=False)[0:50]\n",
        "print(topUsers.head())"
      ],
      "metadata": {
        "colab": {
          "base_uri": "https://localhost:8080/"
        },
        "id": "lYR8_la_1_Zk",
        "outputId": "35f44f96-66ed-4262-d35b-5c88b6c871ef"
      },
      "execution_count": null,
      "outputs": [
        {
          "output_type": "stream",
          "name": "stdout",
          "text": [
            "    similarityIndex  userId\n",
            "4          1.000000     232\n",
            "5          1.000000     414\n",
            "9          1.000000     599\n",
            "0          0.755929     448\n",
            "64         0.000000     231\n"
          ]
        }
      ]
    },
    {
      "cell_type": "code",
      "source": [
        "topUsersRating=topUsers.merge(ratings_df, left_on='userId', right_on='userId', how='inner')\n",
        "print(topUsersRating.head(100))"
      ],
      "metadata": {
        "colab": {
          "base_uri": "https://localhost:8080/"
        },
        "id": "FSOE_XS32CGf",
        "outputId": "c1c0b1b6-dd3f-4c88-938f-0b7e454e0b09"
      },
      "execution_count": null,
      "outputs": [
        {
          "output_type": "stream",
          "name": "stdout",
          "text": [
            "    similarityIndex  userId  movieId  rating   timestamp\n",
            "0               1.0     232        1     3.5  1076955621\n",
            "1               1.0     232        2     4.0  1085351710\n",
            "2               1.0     232       10     3.0  1218167397\n",
            "3               1.0     232       39     3.0  1182909940\n",
            "4               1.0     232       47     4.5  1241823324\n",
            "..              ...     ...      ...     ...         ...\n",
            "95              1.0     232     2059     3.0  1182909401\n",
            "96              1.0     232     2078     3.0  1076956629\n",
            "97              1.0     232     2080     2.5  1182910401\n",
            "98              1.0     232     2081     2.5  1182910383\n",
            "99              1.0     232     2082     3.0  1182909518\n",
            "\n",
            "[100 rows x 5 columns]\n"
          ]
        }
      ]
    },
    {
      "cell_type": "code",
      "source": [
        "#Multiplies the similarity by the user’s ratings\n",
        "topUsersRating['weightedRating'] = topUsersRating['similarityIndex']*topUsersRating['rating']\n",
        "print(topUsersRating.head())"
      ],
      "metadata": {
        "colab": {
          "base_uri": "https://localhost:8080/"
        },
        "id": "PHWDj9uN2G7v",
        "outputId": "f7972af7-d073-48e8-eeb8-ecd8cfd4d088"
      },
      "execution_count": null,
      "outputs": [
        {
          "output_type": "stream",
          "name": "stdout",
          "text": [
            "   similarityIndex  userId  movieId  rating   timestamp  weightedRating\n",
            "0              1.0     232        1     3.5  1076955621             3.5\n",
            "1              1.0     232        2     4.0  1085351710             4.0\n",
            "2              1.0     232       10     3.0  1218167397             3.0\n",
            "3              1.0     232       39     3.0  1182909940             3.0\n",
            "4              1.0     232       47     4.5  1241823324             4.5\n"
          ]
        }
      ]
    },
    {
      "cell_type": "code",
      "source": [
        "#Applies a sum to the topUsers after grouping it up by movieId\n",
        "tempTopUsersRating = topUsersRating.groupby('movieId').sum()[['similarityIndex','weightedRating']]\n",
        "tempTopUsersRating.columns = ['sum_similarityIndex','sum_weightedRating']\n",
        "print(tempTopUsersRating.head())"
      ],
      "metadata": {
        "colab": {
          "base_uri": "https://localhost:8080/"
        },
        "id": "kIthiwWB2MZQ",
        "outputId": "1d151404-5cd8-4195-ee7e-7d2e09b29c0c"
      },
      "execution_count": null,
      "outputs": [
        {
          "output_type": "stream",
          "name": "stdout",
          "text": [
            "         sum_similarityIndex  sum_weightedRating\n",
            "movieId                                         \n",
            "1                   3.755929           14.279645\n",
            "2                   3.755929           11.767787\n",
            "3                   2.755929            7.767787\n",
            "5                   1.755929            4.267787\n",
            "6                   2.000000            7.500000\n"
          ]
        }
      ]
    },
    {
      "cell_type": "code",
      "source": [
        "#Creates an empty dataframe\n",
        "recommendation_df = pd.DataFrame()\n",
        "\n",
        "#Now we take the weighted average\n",
        "recommendation_df['weighted average recommendation score'] = tempTopUsersRating['sum_weightedRating']/tempTopUsersRating['sum_similarityIndex']\n",
        "recommendation_df['movieId'] = tempTopUsersRating.index\n",
        "print(recommendation_df.head(10))"
      ],
      "metadata": {
        "colab": {
          "base_uri": "https://localhost:8080/"
        },
        "id": "S3fHg3Oo2PGf",
        "outputId": "fcfbdfa5-6947-47c2-dbee-c3888d836926"
      },
      "execution_count": null,
      "outputs": [
        {
          "output_type": "stream",
          "name": "stdout",
          "text": [
            "         weighted average recommendation score  movieId\n",
            "movieId                                                \n",
            "1                                     3.801894        1\n",
            "2                                     3.133123        2\n",
            "3                                     2.818573        3\n",
            "5                                     2.430501        5\n",
            "6                                     3.750000        6\n",
            "7                                     2.750000        7\n",
            "8                                     3.000000        8\n",
            "9                                     1.500000        9\n",
            "10                                    3.334386       10\n",
            "11                                    3.750000       11\n"
          ]
        }
      ]
    },
    {
      "cell_type": "code",
      "source": [
        "recommendation_df = recommendation_df.sort_values(by='weighted average recommendation score', ascending=False)\n",
        "\n",
        "recommendation_df_sorted = recommendation_df[recommendation_df['weighted average recommendation score'] > 4.9]\n",
        "\n",
        "print(recommendation_df_sorted)"
      ],
      "metadata": {
        "colab": {
          "base_uri": "https://localhost:8080/"
        },
        "id": "57f76_5i2SLq",
        "outputId": "9b4a04a0-1fd6-425f-e9a0-34f7b9ada6bd"
      },
      "execution_count": null,
      "outputs": [
        {
          "output_type": "stream",
          "name": "stdout",
          "text": [
            "         weighted average recommendation score  movieId\n",
            "movieId                                                \n",
            "1250                                       5.0     1250\n",
            "3160                                       5.0     3160\n",
            "1285                                       5.0     1285\n",
            "2020                                       5.0     2020\n",
            "2013                                       5.0     2013\n",
            "...                                        ...      ...\n",
            "741                                        5.0      741\n",
            "132333                                     5.0   132333\n",
            "2524                                       5.0     2524\n",
            "750                                        5.0      750\n",
            "866                                        5.0      866\n",
            "\n",
            "[75 rows x 2 columns]\n"
          ]
        }
      ]
    },
    {
      "cell_type": "code",
      "source": [
        "recommended_movie = movies_df.loc[movies_df['movieId'].isin(recommendation_df_sorted['movieId'])]\n",
        "\n",
        "#we don't want to recommend the same movie\n",
        "recommended_movie = recommended_movie.loc[~recommended_movie.movieId.isin(userSubset['movieId'])]\n",
        "\n",
        "print(recommended_movie)"
      ],
      "metadata": {
        "colab": {
          "base_uri": "https://localhost:8080/"
        },
        "id": "BovrXGDN2VDS",
        "outputId": "3e960d16-c47e-4e74-edb9-6c65f29c1a85"
      },
      "execution_count": null,
      "outputs": [
        {
          "output_type": "stream",
          "name": "stdout",
          "text": [
            "      movieId                         title                     genres\n",
            "32         34                   Babe (1995)             Children|Drama\n",
            "83         94        Beautiful Girls (1996)       Comedy|Drama|Romance\n",
            "124       151                Rob Roy (1995)   Action|Drama|Romance|War\n",
            "229       266    Legends of the Fall (1994)  Drama|Romance|War|Western\n",
            "251       290     Once Were Warriors (1994)                Crime|Drama\n",
            "...       ...                           ...                        ...\n",
            "4789     7132  Night at the Opera, A (1935)     Comedy|Musical|Romance\n",
            "5230     8542    Day at the Races, A (1937)             Comedy|Musical\n",
            "8730   127108               Brooklyn (2015)              Drama|Romance\n",
            "8839   132333                   Seve (2014)          Documentary|Drama\n",
            "9497   170705       Band of Brothers (2001)           Action|Drama|War\n",
            "\n",
            "[75 rows x 3 columns]\n"
          ]
        }
      ]
    }
  ]
}